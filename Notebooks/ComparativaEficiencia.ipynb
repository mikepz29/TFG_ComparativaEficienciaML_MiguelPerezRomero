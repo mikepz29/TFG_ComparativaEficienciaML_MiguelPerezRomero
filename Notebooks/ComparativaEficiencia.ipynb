{
 "cells": [
  {
   "cell_type": "markdown",
   "id": "c181b57a",
   "metadata": {},
   "source": [
    "# Comparativa de Eficiencia"
   ]
  },
  {
   "cell_type": "markdown",
   "id": "c29a5e72",
   "metadata": {},
   "source": [
    "Tabla comparativa de las métricas de rendimiento de los 4 modelos."
   ]
  },
  {
   "cell_type": "code",
   "execution_count": 2,
   "id": "dea96458",
   "metadata": {},
   "outputs": [
    {
     "data": {
      "text/html": [
       "<div>\n",
       "<style scoped>\n",
       "    .dataframe tbody tr th:only-of-type {\n",
       "        vertical-align: middle;\n",
       "    }\n",
       "\n",
       "    .dataframe tbody tr th {\n",
       "        vertical-align: top;\n",
       "    }\n",
       "\n",
       "    .dataframe thead th {\n",
       "        text-align: right;\n",
       "    }\n",
       "</style>\n",
       "<table border=\"1\" class=\"dataframe\">\n",
       "  <thead>\n",
       "    <tr style=\"text-align: right;\">\n",
       "      <th></th>\n",
       "      <th>Modelo</th>\n",
       "      <th>Accuracy</th>\n",
       "      <th>Precision</th>\n",
       "      <th>Recall</th>\n",
       "      <th>F1</th>\n",
       "    </tr>\n",
       "  </thead>\n",
       "  <tbody>\n",
       "    <tr>\n",
       "      <th>0</th>\n",
       "      <td>KNN</td>\n",
       "      <td>0.910334</td>\n",
       "      <td>0.917048</td>\n",
       "      <td>0.910334</td>\n",
       "      <td>0.908619</td>\n",
       "    </tr>\n",
       "    <tr>\n",
       "      <th>1</th>\n",
       "      <td>Red Neuronal</td>\n",
       "      <td>0.957712</td>\n",
       "      <td>0.955269</td>\n",
       "      <td>0.948588</td>\n",
       "      <td>0.951188</td>\n",
       "    </tr>\n",
       "    <tr>\n",
       "      <th>2</th>\n",
       "      <td>LightGBM Default</td>\n",
       "      <td>0.983150</td>\n",
       "      <td>0.978603</td>\n",
       "      <td>0.982576</td>\n",
       "      <td>0.980561</td>\n",
       "    </tr>\n",
       "    <tr>\n",
       "      <th>3</th>\n",
       "      <td>LightGBM Optimizer</td>\n",
       "      <td>0.989250</td>\n",
       "      <td>0.984926</td>\n",
       "      <td>0.990540</td>\n",
       "      <td>0.987689</td>\n",
       "    </tr>\n",
       "  </tbody>\n",
       "</table>\n",
       "</div>"
      ],
      "text/plain": [
       "               Modelo  Accuracy  Precision    Recall        F1\n",
       "0                 KNN  0.910334   0.917048  0.910334  0.908619\n",
       "1        Red Neuronal  0.957712   0.955269  0.948588  0.951188\n",
       "2    LightGBM Default  0.983150   0.978603  0.982576  0.980561\n",
       "3  LightGBM Optimizer  0.989250   0.984926  0.990540  0.987689"
      ]
     },
     "execution_count": 2,
     "metadata": {},
     "output_type": "execute_result"
    }
   ],
   "source": [
    "import pandas as pd\n",
    "\n",
    "# Defining the performance metrics for the models based on the training data from the images provided\n",
    "models_performance = {\n",
    "    \"Modelo\": [\"KNN\", \"Red Neuronal\", \"LightGBM Default\", \"LightGBM Optimizer\"],\n",
    "    \"Accuracy\": [0.910334, 0.957712, 0.98315, 0.98925],\n",
    "    \"Precision\": [0.917048, 0.955269, 0.978603, 0.984926],\n",
    "    \"Recall\": [0.910334, 0.948588, 0.982576, 0.990540],\n",
    "    \"F1\": [0.908619, 0.951188, 0.980561, 0.987689]\n",
    "}\n",
    "\n",
    "# Creating a DataFrame from the dictionary\n",
    "performance_df = pd.DataFrame(models_performance)\n",
    "performance_df"
   ]
  },
  {
   "cell_type": "markdown",
   "id": "d007200e",
   "metadata": {},
   "source": [
    "Tabla comparativa de los tiempos de entrenamiento de los 4 modelos"
   ]
  },
  {
   "cell_type": "code",
   "execution_count": 1,
   "id": "bc9f472e",
   "metadata": {},
   "outputs": [
    {
     "data": {
      "text/html": [
       "<div>\n",
       "<style scoped>\n",
       "    .dataframe tbody tr th:only-of-type {\n",
       "        vertical-align: middle;\n",
       "    }\n",
       "\n",
       "    .dataframe tbody tr th {\n",
       "        vertical-align: top;\n",
       "    }\n",
       "\n",
       "    .dataframe thead th {\n",
       "        text-align: right;\n",
       "    }\n",
       "</style>\n",
       "<table border=\"1\" class=\"dataframe\">\n",
       "  <thead>\n",
       "    <tr style=\"text-align: right;\">\n",
       "      <th></th>\n",
       "      <th>Modelo</th>\n",
       "      <th>Tiempo de entrenamiento (s)</th>\n",
       "    </tr>\n",
       "  </thead>\n",
       "  <tbody>\n",
       "    <tr>\n",
       "      <th>0</th>\n",
       "      <td>KNN</td>\n",
       "      <td>0.074110</td>\n",
       "    </tr>\n",
       "    <tr>\n",
       "      <th>1</th>\n",
       "      <td>Red Neuronal</td>\n",
       "      <td>5.702259</td>\n",
       "    </tr>\n",
       "    <tr>\n",
       "      <th>2</th>\n",
       "      <td>LightGBM - Estudio Búsqueda Hiperparámetros</td>\n",
       "      <td>555.258102</td>\n",
       "    </tr>\n",
       "    <tr>\n",
       "      <th>3</th>\n",
       "      <td>LightGBM - Default</td>\n",
       "      <td>0.624040</td>\n",
       "    </tr>\n",
       "    <tr>\n",
       "      <th>4</th>\n",
       "      <td>LightGBM - Optimizer</td>\n",
       "      <td>8.466569</td>\n",
       "    </tr>\n",
       "  </tbody>\n",
       "</table>\n",
       "</div>"
      ],
      "text/plain": [
       "                                        Modelo  Tiempo de entrenamiento (s)\n",
       "0                                          KNN                     0.074110\n",
       "1                                 Red Neuronal                     5.702259\n",
       "2  LightGBM - Estudio Búsqueda Hiperparámetros                   555.258102\n",
       "3                           LightGBM - Default                     0.624040\n",
       "4                         LightGBM - Optimizer                     8.466569"
      ]
     },
     "execution_count": 1,
     "metadata": {},
     "output_type": "execute_result"
    }
   ],
   "source": [
    "import pandas as pd\n",
    "\n",
    "# Define the training times for the models based on the provided data\n",
    "models_training_time = {\n",
    "    \"Modelo\": [\"KNN\", \"Red Neuronal\", \"LightGBM - Estudio Búsqueda Hiperparámetros\", \"LightGBM - Default\", \"LightGBM - Optimizer\"],\n",
    "    \"Tiempo de entrenamiento (s)\": [0.07411, 5.702259, 555.258102, 0.624040, 8.466569]\n",
    "}\n",
    "\n",
    "# Create a DataFrame for the training times\n",
    "training_time_df = pd.DataFrame(models_training_time)\n",
    "training_time_df\n"
   ]
  }
 ],
 "metadata": {
  "kernelspec": {
   "display_name": "Python 3 (ipykernel)",
   "language": "python",
   "name": "python3"
  },
  "language_info": {
   "codemirror_mode": {
    "name": "ipython",
    "version": 3
   },
   "file_extension": ".py",
   "mimetype": "text/x-python",
   "name": "python",
   "nbconvert_exporter": "python",
   "pygments_lexer": "ipython3",
   "version": "3.8.10"
  }
 },
 "nbformat": 4,
 "nbformat_minor": 5
}
